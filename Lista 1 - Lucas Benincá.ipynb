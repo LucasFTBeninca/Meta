{
 "cells": [
  {
   "cell_type": "code",
   "execution_count": 2,
   "id": "34271ebf",
   "metadata": {},
   "outputs": [
    {
     "name": "stdout",
     "output_type": "stream",
     "text": [
      "Digite uma velocidade em km/h: 36\n",
      "A velocidade de 36.0 convertida para m/s é igual a 10.0\n"
     ]
    }
   ],
   "source": [
    "#Questão 7\n",
    "\n",
    "velocidade_km = float(input(\"Digite uma velocidade em km/h: \"))\n",
    "\n",
    "velocidade_ms = velocidade_km / 3.6\n",
    "\n",
    "print(f\"A velocidade de {velocidade_km} convertida para m/s é igual a {velocidade_ms}\")"
   ]
  },
  {
   "cell_type": "code",
   "execution_count": 6,
   "id": "66356dc6",
   "metadata": {},
   "outputs": [
    {
     "name": "stdout",
     "output_type": "stream",
     "text": [
      "Digite um angulo em graus: 90\n",
      "O ângulo de 90.0 graus, convertido para radianos é igual a 1.5707963267948966!\n"
     ]
    }
   ],
   "source": [
    "#Questão 8\n",
    "\n",
    "import math\n",
    "\n",
    "angulo_g = float(input(\"Digite um angulo em graus: \"))\n",
    "\n",
    "angulo_r = angulo_g * math.pi / 180\n",
    "\n",
    "print(f\"O ângulo de {angulo_g} graus, convertido para radianos é igual a {angulo_r}!\")"
   ]
  },
  {
   "cell_type": "code",
   "execution_count": 8,
   "id": "47b83bb8",
   "metadata": {},
   "outputs": [
    {
     "name": "stdout",
     "output_type": "stream",
     "text": [
      "Digite a nota do primeiro aluno: 10\n",
      "Digite a nota do segundo aluno: 10\n",
      "Digite a nota do terceiro aluno: 10\n",
      "Digite a nota do quarto aluno: 10\n",
      "A nota média dos alunos citados é de 10.0 pontos!\n"
     ]
    }
   ],
   "source": [
    "#Questão 9\n",
    "\n",
    "nota1 = float(input(\"Digite a nota do primeiro aluno: \"))\n",
    "nota2 = float(input(\"Digite a nota do segundo aluno: \"))\n",
    "nota3 = float(input(\"Digite a nota do terceiro aluno: \"))\n",
    "nota4 = float(input(\"Digite a nota do quarto aluno: \"))\n",
    "\n",
    "media_notas = (nota1 + nota2 + nota3 + nota4) / 4\n",
    "\n",
    "print(f\"A nota média dos alunos citados é de {media_notas} pontos!\")"
   ]
  },
  {
   "cell_type": "code",
   "execution_count": 9,
   "id": "03cb3713",
   "metadata": {},
   "outputs": [
    {
     "name": "stdout",
     "output_type": "stream",
     "text": [
      "Digite o valor em reais (R$): 25\n",
      "Digite o valor da cotação do dólar: 5\n",
      "R$ 25.0 convertido para dolar é igual a $ 5.0\n"
     ]
    }
   ],
   "source": [
    "#Questão 10\n",
    "\n",
    "valor_real = float(input(\"Digite o valor em reais (R$): \"))\n",
    "valor_cotação = float(input(\"Digite o valor da cotação do dólar: \"))\n",
    "\n",
    "conversão = valor_real / valor_cotação\n",
    "\n",
    "print(f\"R$ {valor_real} convertido para dolar é igual a $ {conversão}\")"
   ]
  },
  {
   "cell_type": "code",
   "execution_count": 13,
   "id": "f9460ffd",
   "metadata": {},
   "outputs": [
    {
     "name": "stdout",
     "output_type": "stream",
     "text": [
      "Digite a quantidade de dias de trabalho realizado o encanador teve: 5\n",
      "Devido aos 5 dias trabalhados, o encanador irá receber R$ 355.\n"
     ]
    }
   ],
   "source": [
    "#Questão 11\n",
    "\n",
    "visita = 80\n",
    "analise = 55\n",
    "\n",
    "serviço = int(input(\"Digite a quantidade de dias de trabalho realizado o encanador teve: \"))\n",
    "\n",
    "salario = visita + (analise*serviço)\n",
    "\n",
    "print(f\"Devido aos {serviço} dias trabalhados, o encanador irá receber R$ {salario}.\")"
   ]
  },
  {
   "cell_type": "code",
   "execution_count": 16,
   "id": "cc5a1cc3",
   "metadata": {},
   "outputs": [
    {
     "name": "stdout",
     "output_type": "stream",
     "text": [
      "Digite o valor inteiro do produto que seja comprar: 10\n",
      "O valor do produto com desconto aplicado é de R$ 8.8.\n"
     ]
    }
   ],
   "source": [
    "#Questão 12\n",
    "\n",
    "valor = float(input(\"Digite o valor inteiro do produto que seja comprar: \"))\n",
    "\n",
    "valor_desconto = valor - (valor*0.12)\n",
    "\n",
    "print(f\"O valor do produto com desconto aplicado é de R$ {valor_desconto}.\")"
   ]
  },
  {
   "cell_type": "code",
   "execution_count": 18,
   "id": "0d33e357",
   "metadata": {},
   "outputs": [
    {
     "name": "stdout",
     "output_type": "stream",
     "text": [
      "Digite o valor do seu salário: 1000\n",
      "O valor do salário recebido com bônus é de R$ 1250.0.\n"
     ]
    }
   ],
   "source": [
    "#Questão 13\n",
    "\n",
    "salario = float(input(\"Digite o valor do seu salário: \"))\n",
    "\n",
    "valor_salario = salario + (salario*0.25)\n",
    "\n",
    "print(f\"O valor do salário recebido com bônus é de R$ {valor_salario}.\")"
   ]
  },
  {
   "cell_type": "code",
   "execution_count": 19,
   "id": "c33970fe",
   "metadata": {},
   "outputs": [
    {
     "name": "stdout",
     "output_type": "stream",
     "text": [
      "O valor recebido do primeiro ganhador é de R$ 358800.0, o segundo ganhador irá receber R$ 249600.0 e o terceiro irá receber 171600.0!\n"
     ]
    }
   ],
   "source": [
    "#Questão 14\n",
    "\n",
    "premio = 780000\n",
    "\n",
    "ganhador1 = premio * 0.46\n",
    "ganhador2 = premio * 0.32\n",
    "ganhador3 = premio - ganhador1 - ganhador2\n",
    "\n",
    "print(f\"O valor recebido do primeiro ganhador é de R$ {ganhador1}, o segundo ganhador irá receber R$ {ganhador2} e o terceiro irá receber {ganhador3}!\")\n"
   ]
  },
  {
   "cell_type": "code",
   "execution_count": 26,
   "id": "9e1bd496",
   "metadata": {},
   "outputs": [
    {
     "name": "stdout",
     "output_type": "stream",
     "text": [
      "Digite o valor do salário base do funcionário: 800\n",
      "O salário total que o colaborador irá receber é de R$ 784.0\n"
     ]
    }
   ],
   "source": [
    "#Questão 15\n",
    "\n",
    "salario_base = float(input(\"Digite o valor do salário base do funcionário: \"))\n",
    "\n",
    "gratificação = salario_base * 0.05\n",
    "\n",
    "imposto = salario_base * 0.07\n",
    "\n",
    "salario_total = salario_base + gratificação - imposto\n",
    "\n",
    "print(f\"O salário total que o colaborador irá receber é de R$ {salario_total}\")"
   ]
  },
  {
   "cell_type": "code",
   "execution_count": 29,
   "id": "10a9ae7f",
   "metadata": {},
   "outputs": [
    {
     "name": "stdout",
     "output_type": "stream",
     "text": [
      "Digite o valor da venda do produto: 10\n",
      "O valor da venda realizada foi de R$ 10.0\n",
      "Caso a venda seja feita a vista, o cliente irá pagar R$ 9.0 e o vendedor irá receber R$ 0.45\n",
      "Caso a venda seja feita parcelada, o cliente irá pagar R$ 3.3333333333333335 cada parcela em 3x e o vendedor irá receber R$ 0.16666666666666669\n"
     ]
    }
   ],
   "source": [
    "#Questão 16\n",
    "\n",
    "valor_base = float(input(\"Digite o valor da venda do produto: \"))\n",
    "\n",
    "total_desconto = valor_base - (valor_base * 0.10)\n",
    "\n",
    "valor_parcela = valor_base / 3\n",
    "\n",
    "valor_comissao_total = total_desconto * 0.05\n",
    "\n",
    "valor_comissao_parcela = valor_parcela * 0.05\n",
    "\n",
    "print(f\"O valor da venda realizada foi de R$ {valor_base}\")\n",
    "\n",
    "print(f\"Caso a venda seja feita a vista, o cliente irá pagar R$ {total_desconto} e o vendedor irá receber R$ {valor_comissao_total}\")\n",
    "\n",
    "print(f\"Caso a venda seja feita parcelada, o cliente irá pagar R$ {valor_parcela} cada parcela em 3x e o vendedor irá receber R$ {valor_comissao_parcela}\")"
   ]
  },
  {
   "cell_type": "code",
   "execution_count": 32,
   "id": "5b3ae04e",
   "metadata": {},
   "outputs": [
    {
     "name": "stdout",
     "output_type": "stream",
     "text": [
      "Digite o valor do lado do quadrado em metros: 2\n",
      "A área do quadrado em questão é 4.0 m2\n",
      "O perímetro do quadrado em questão é 8.0 m\n",
      "A diagonal do quadrado em questão é 2.8284271247461903 m\n"
     ]
    }
   ],
   "source": [
    "#Questão 17\n",
    "\n",
    "import math\n",
    "\n",
    "lado = float(input(\"Digite o valor do lado do quadrado em metros: \"))\n",
    "\n",
    "area = lado * lado\n",
    "\n",
    "perimetro = 4 * lado\n",
    "\n",
    "diagonal = lado * math.sqrt(2)\n",
    "\n",
    "print(f\"A área do quadrado em questão é {area} m2\")\n",
    "\n",
    "print(f\"O perímetro do quadrado em questão é {perimetro} m\")\n",
    "\n",
    "print(f\"A diagonal do quadrado em questão é {diagonal} m\")"
   ]
  },
  {
   "cell_type": "code",
   "execution_count": null,
   "id": "330b705b",
   "metadata": {},
   "outputs": [],
   "source": []
  }
 ],
 "metadata": {
  "kernelspec": {
   "display_name": "Python 3 (ipykernel)",
   "language": "python",
   "name": "python3"
  },
  "language_info": {
   "codemirror_mode": {
    "name": "ipython",
    "version": 3
   },
   "file_extension": ".py",
   "mimetype": "text/x-python",
   "name": "python",
   "nbconvert_exporter": "python",
   "pygments_lexer": "ipython3",
   "version": "3.9.13"
  }
 },
 "nbformat": 4,
 "nbformat_minor": 5
}
